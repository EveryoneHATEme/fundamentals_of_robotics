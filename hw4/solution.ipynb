{
 "nbformat": 4,
 "nbformat_minor": 0,
 "metadata": {
  "colab": {
   "provenance": []
  },
  "kernelspec": {
   "name": "python3",
   "language": "python",
   "display_name": "Python 3 (ipykernel)"
  },
  "language_info": {
   "name": "python"
  }
 },
 "cells": [
  {
   "cell_type": "code",
   "execution_count": 29,
   "metadata": {
    "id": "UJTeaf6WKc3k",
    "ExecuteTime": {
     "start_time": "2023-05-16T23:29:34.149175Z",
     "end_time": "2023-05-16T23:29:34.160167Z"
    }
   },
   "outputs": [],
   "source": [
    "import sympy as sp\n",
    "import numpy as np"
   ]
  },
  {
   "cell_type": "markdown",
   "source": [
    "# Task 1\n",
    "\n",
    "Derive dynamic model for your robot model using the Euler-Lagrange approach"
   ],
   "metadata": {
    "collapsed": false
   }
  },
  {
   "cell_type": "code",
   "source": [
    "from collections import namedtuple\n",
    "\n",
    "Angles = namedtuple('Angles', ['theta_1', 'theta_2', 'theta_3', 'theta_4', 'theta_5', 'theta_6'])\n",
    "\n",
    "Configuration = namedtuple('Configuration', ['d_1', 'd_2', 'd_3', 'd_4', 'd_5'])\n",
    "general_configuration = Configuration(*[sp.Symbol(f'd_{i}') for i in range(1, 6)])\n",
    "\n",
    "t = sp.Symbol('t')\n",
    "general_angles = Angles(*[sp.Function(f'q_{i}')(t) for i in range(1, 7)])\n",
    "\n",
    "\n",
    "def get_dh_parameters(angles: Angles):\n",
    "    dh_parameters = [\n",
    "        # a                         d                                                       alpha       theta\n",
    "        (0,                         general_configuration.d_1,                              sp.pi / 2,  angles.theta_1),\n",
    "        (general_configuration.d_2, 0,                                                      0,          angles.theta_2),\n",
    "        (0,                         0,                                                      -sp.pi / 2, angles.theta_3 - sp.pi / 2),\n",
    "        (0,                         general_configuration.d_3 + general_configuration.d_4,  sp.pi / 2,  angles.theta_4 - sp.pi / 2),\n",
    "        (0,                         0,                                                      -sp.pi / 2, angles.theta_5),\n",
    "        (0,                         general_configuration.d_5,                              0,          angles.theta_6)\n",
    "    ]\n",
    "    return dh_parameters\n"
   ],
   "metadata": {
    "id": "Z_lgPXRKOmmP",
    "ExecuteTime": {
     "start_time": "2023-05-16T23:29:34.317508Z",
     "end_time": "2023-05-16T23:29:34.331158Z"
    }
   },
   "execution_count": 30,
   "outputs": []
  },
  {
   "cell_type": "code",
   "source": [
    "class Rotation:\n",
    "    @staticmethod\n",
    "    def around_z(_theta):\n",
    "        return sp.Matrix([[sp.cos(_theta),  -sp.sin(_theta),    0,  0],\n",
    "                          [sp.sin(_theta),  sp.cos(_theta),     0,  0],\n",
    "                          [0,                0,                 1,  0],\n",
    "                          [0,               0,                  0,  1]])\n",
    "    \n",
    "    @staticmethod\n",
    "    def around_x(_theta):\n",
    "        return sp.Matrix([[1,   0,              0,                  0],\n",
    "                          [0,   sp.cos(_theta), -sp.sin(_theta),    0],\n",
    "                          [0,   sp.sin(_theta), sp.cos(_theta),     0],\n",
    "                          [0,   0,              0,                  1]])\n",
    "\n",
    "\n",
    "class Translation:\n",
    "    @staticmethod\n",
    "    def on_z(distance):\n",
    "        return sp.Matrix([[1, 0, 0, 0],\n",
    "                          [0, 1, 0, 0],\n",
    "                          [0, 0, 1, distance],\n",
    "                          [0, 0, 0, 1]])\n",
    "    \n",
    "    @staticmethod\n",
    "    def on_x(distance):\n",
    "        return sp.Matrix([[1, 0, 0, distance],\n",
    "                          [0, 1, 0, 0],\n",
    "                          [0, 0, 1, 0],\n",
    "                          [0, 0, 0, 1]])"
   ],
   "metadata": {
    "id": "rypK8o0Qbus-",
    "ExecuteTime": {
     "start_time": "2023-05-16T23:29:34.525462Z",
     "end_time": "2023-05-16T23:29:34.541454Z"
    }
   },
   "execution_count": 31,
   "outputs": []
  },
  {
   "cell_type": "code",
   "source": [
    "from operator import mul\n",
    "from functools import reduce\n",
    "\n",
    "\n",
    "def dh_transform(a, d, alpha, theta):\n",
    "    rotation_theta = Rotation.around_z(theta)\n",
    "    translation_d = Translation.on_z(d)\n",
    "    translation_a = Translation.on_x(a)\n",
    "    rotation_alpha = Rotation.around_x(alpha)\n",
    "\n",
    "    return reduce(mul, [rotation_theta, translation_d, translation_a, rotation_alpha])"
   ],
   "metadata": {
    "id": "Jc8klnBedndE",
    "ExecuteTime": {
     "start_time": "2023-05-16T23:29:34.714518Z",
     "end_time": "2023-05-16T23:29:34.736511Z"
    }
   },
   "execution_count": 32,
   "outputs": []
  },
  {
   "cell_type": "code",
   "source": [
    "from itertools import starmap, accumulate\n",
    "\n",
    "\n",
    "def forward_kinematics(angles: Angles):\n",
    "    transforms = starmap(dh_transform, get_dh_parameters(angles))\n",
    "\n",
    "    base_frame = sp.eye(4)\n",
    "    frames_history = list(accumulate(transforms, func=mul, initial=base_frame))\n",
    "\n",
    "    return frames_history"
   ],
   "metadata": {
    "id": "sM9fhKccfnt9",
    "ExecuteTime": {
     "start_time": "2023-05-16T23:29:34.981513Z",
     "end_time": "2023-05-16T23:29:35.008516Z"
    }
   },
   "execution_count": 33,
   "outputs": []
  },
  {
   "cell_type": "code",
   "source": [
    "frames = forward_kinematics(general_angles)"
   ],
   "metadata": {
    "id": "ZBGfPbIjgkap",
    "ExecuteTime": {
     "start_time": "2023-05-16T23:29:35.296020Z",
     "end_time": "2023-05-16T23:29:35.380225Z"
    }
   },
   "execution_count": 34,
   "outputs": []
  },
  {
   "cell_type": "code",
   "source": [
    "com_dh = [\n",
    "    [0, general_configuration.d_1 / 3, 0, general_angles.theta_1],\n",
    "    [general_configuration.d_2 / 3, 0, 0, general_angles.theta_2],\n",
    "    [general_configuration.d_3 / 3, 0, 0, general_angles.theta_3],\n",
    "    [0, general_configuration.d_3 + general_configuration.d_4 / 3, 0, general_angles.theta_4],\n",
    "    [0, general_configuration.d_5 / 3, 0, general_angles.theta_6]\n",
    "]\n",
    "\n",
    "com_frames = [frame * dh_transform(*dh) for frame, dh in zip(frames, com_dh)]"
   ],
   "metadata": {
    "id": "4ME9chaV_scD",
    "ExecuteTime": {
     "start_time": "2023-05-16T23:29:35.548509Z",
     "end_time": "2023-05-16T23:29:35.561499Z"
    }
   },
   "execution_count": 35,
   "outputs": []
  },
  {
   "cell_type": "code",
   "source": [
    "inertia_tensors = [sp.Matrix([[sp.Symbol(f'I_{{{first}{second}_{i}}}') for second in ('x', 'y', 'z')] for first in ('x', 'y', 'z')]) for i in range(1, len(com_frames))]\n",
    "inertia_tensors = [tensor.replace(tensor[1, 0], tensor[0, 1]).replace(tensor[2, 0], tensor[0, 2]).replace(tensor[2, 1], tensor[1, 2]) for tensor in inertia_tensors]"
   ],
   "metadata": {
    "id": "hmntFPhLNq8M",
    "ExecuteTime": {
     "start_time": "2023-05-16T23:29:35.603498Z",
     "end_time": "2023-05-16T23:29:35.620502Z"
    }
   },
   "execution_count": 36,
   "outputs": []
  },
  {
   "cell_type": "code",
   "source": [
    "link_masses = [sp.Symbol(f'm_{i}') for i in range(1, len(com_frames) + 1)]"
   ],
   "metadata": {
    "id": "RPtDOVyxX4l4",
    "ExecuteTime": {
     "start_time": "2023-05-16T23:29:36.183840Z",
     "end_time": "2023-05-16T23:29:36.196272Z"
    }
   },
   "execution_count": 37,
   "outputs": []
  },
  {
   "cell_type": "code",
   "source": [
    "linear_jacobians = []\n",
    "for frame in com_frames:\n",
    "    jacobian = sp.zeros(3, len(com_frames))\n",
    "\n",
    "    for i, q in enumerate(general_angles[:len(com_frames)]):\n",
    "        jacobian[:, i] = frame[:3, 3].diff(q)\n",
    "\n",
    "    jacobian.simplify()\n",
    "\n",
    "    linear_jacobians.append(jacobian)\n"
   ],
   "metadata": {
    "id": "GGOUNrulNXDJ",
    "ExecuteTime": {
     "start_time": "2023-05-16T23:29:36.700926Z",
     "end_time": "2023-05-16T23:29:44.639254Z"
    }
   },
   "execution_count": 38,
   "outputs": []
  },
  {
   "cell_type": "code",
   "source": [
    "angular_jacobians = []\n",
    "for frame in com_frames:\n",
    "    jacobian = sp.zeros(3, len(com_frames))\n",
    "\n",
    "    for i, q in enumerate(general_angles[:len(com_frames)]):\n",
    "        jacobian[:, i] = frame[:3, 2].diff(q)\n",
    "    \n",
    "    jacobian.simplify()\n",
    "\n",
    "    angular_jacobians.append(jacobian)"
   ],
   "metadata": {
    "id": "hfmKc_2waqBe",
    "ExecuteTime": {
     "start_time": "2023-05-16T23:29:44.796120Z",
     "end_time": "2023-05-16T23:29:46.347995Z"
    }
   },
   "execution_count": 39,
   "outputs": []
  },
  {
   "cell_type": "code",
   "source": [
    "inertial_matrix = sp.zeros(len(com_frames))\n",
    "\n",
    "for i, (mass, inertia, linear_jacobian, angular_jacobian, frame) in enumerate(zip(link_masses, inertia_tensors, linear_jacobians, angular_jacobians, com_frames)):\n",
    "    inertial_matrix += mass * linear_jacobian.T * linear_jacobian\n",
    "    inertial_matrix += angular_jacobian.T * frame[:3, :3] * inertia * frame[:3, :3].T * angular_jacobian\n",
    "\n",
    "inertial_matrix.simplify()"
   ],
   "metadata": {
    "id": "GOHZZrwRcHO-",
    "ExecuteTime": {
     "start_time": "2023-05-16T23:29:46.353006Z",
     "end_time": "2023-05-16T23:32:53.128542Z"
    }
   },
   "execution_count": 40,
   "outputs": []
  },
  {
   "cell_type": "code",
   "source": [
    "inertial_matrix.is_symmetric()"
   ],
   "metadata": {
    "colab": {
     "base_uri": "https://localhost:8080/"
    },
    "id": "WxylX3VWrgQ-",
    "outputId": "2151c116-5510-4ccf-d779-a19c36b536c8",
    "ExecuteTime": {
     "start_time": "2023-05-16T23:32:53.130443Z",
     "end_time": "2023-05-16T23:32:53.144050Z"
    }
   },
   "execution_count": 41,
   "outputs": [
    {
     "data": {
      "text/plain": "True"
     },
     "execution_count": 41,
     "metadata": {},
     "output_type": "execute_result"
    }
   ]
  },
  {
   "cell_type": "code",
   "source": [
    "from itertools import product\n",
    "\n",
    "coriolis = sp.zeros(len(com_frames))\n",
    "\n",
    "for i, j in product(range(len(com_frames)), range(len(com_frames))):\n",
    "    for k in range(len(com_frames)):\n",
    "        q_dot = general_angles[k].diff(t)\n",
    "        c_ijk = 0.5 * (inertial_matrix[i, j].diff(general_angles[k]) + inertial_matrix[i, k].diff(general_angles[j]) - inertial_matrix[j, k].diff(general_angles[i]))\n",
    "        coriolis[i, j] += c_ijk * q_dot"
   ],
   "metadata": {
    "id": "ywykqOwxrmEw",
    "ExecuteTime": {
     "start_time": "2023-05-16T23:32:53.174053Z",
     "end_time": "2023-05-16T23:32:54.686239Z"
    }
   },
   "execution_count": 42,
   "outputs": []
  },
  {
   "cell_type": "code",
   "source": [
    "from functools import reduce\n",
    "from operator import add\n",
    "\n",
    "acceleration = sp.Matrix([0, 0, -9.80665])\n",
    "\n",
    "gravity_vector = reduce(add, [mass * jacobian.T * acceleration for mass, jacobian in zip(link_masses, linear_jacobians)])"
   ],
   "metadata": {
    "id": "4rjJ56mmQ1HL",
    "ExecuteTime": {
     "start_time": "2023-05-16T23:33:35.838765Z",
     "end_time": "2023-05-16T23:33:35.882773Z"
    }
   },
   "execution_count": 44,
   "outputs": []
  },
  {
   "cell_type": "code",
   "source": [
    "# given in grams * square millimeters\n",
    "inertia_tensors_values = np.array([[[127315.49, 0.0, 0.0],\n",
    "                                    [0.0, 17300.01, 0.0], \n",
    "                                    [0.0, 0.0, 127315.49]]] * len(com_frames))\n",
    "inertia_tensors_values *= 1e-9 \n",
    "\n",
    "# given in grams\n",
    "link_masses_values = np.array([111.83] * len(com_frames))\n",
    "link_masses_values *= 1e-3"
   ],
   "metadata": {
    "id": "k2QQ2WU47ClI",
    "ExecuteTime": {
     "start_time": "2023-05-16T23:33:36.754552Z",
     "end_time": "2023-05-16T23:33:36.766100Z"
    }
   },
   "execution_count": 45,
   "outputs": []
  },
  {
   "cell_type": "code",
   "source": [
    "configuration = Configuration(1., 3., 2., 1., 1.)"
   ],
   "metadata": {
    "id": "BKDZ_Oy_JX3l",
    "ExecuteTime": {
     "start_time": "2023-05-16T23:33:37.636664Z",
     "end_time": "2023-05-16T23:33:37.647828Z"
    }
   },
   "execution_count": 46,
   "outputs": []
  },
  {
   "cell_type": "code",
   "source": [
    "# substituting values for inertia tensors\n",
    "for general_inertia_tensor, inertia_tensor_values in zip(inertia_tensors, inertia_tensors_values):\n",
    "    for i, j in product(range(general_inertia_tensor.shape[0]), range(general_inertia_tensor.shape[1])):\n",
    "        inertial_matrix = inertial_matrix.subs(general_inertia_tensor[i, j], inertia_tensor_values[i, j])\n",
    "        coriolis = coriolis.subs(general_inertia_tensor[i, j], inertia_tensor_values[i, j])"
   ],
   "metadata": {
    "id": "5VRUAsqBKE_5",
    "ExecuteTime": {
     "start_time": "2023-05-16T23:33:38.534602Z",
     "end_time": "2023-05-16T23:33:40.840441Z"
    }
   },
   "execution_count": 47,
   "outputs": []
  },
  {
   "cell_type": "code",
   "source": [
    "# substituting values for masses\n",
    "for general_mass, mass_value in zip(link_masses, link_masses_values):\n",
    "    inertial_matrix = inertial_matrix.subs(general_mass, mass_value)\n",
    "    coriolis = coriolis.subs(general_mass, mass_value)\n",
    "    gravity_vector = gravity_vector.subs(general_mass, mass_value)"
   ],
   "metadata": {
    "id": "PlcamnN_LMxw",
    "ExecuteTime": {
     "start_time": "2023-05-16T23:33:40.887330Z",
     "end_time": "2023-05-16T23:33:41.176801Z"
    }
   },
   "execution_count": 48,
   "outputs": []
  },
  {
   "cell_type": "code",
   "source": [
    "# substituting values for links lengths\n",
    "for general_length, length_value in zip(general_configuration, configuration):\n",
    "    inertial_matrix = inertial_matrix.subs(general_length, length_value)\n",
    "    coriolis = coriolis.subs(general_length, length_value)\n",
    "    gravity_vector = gravity_vector.subs(general_length, length_value)"
   ],
   "metadata": {
    "id": "0FmVIe2SLSbm",
    "ExecuteTime": {
     "start_time": "2023-05-16T23:33:41.994417Z",
     "end_time": "2023-05-16T23:33:42.218429Z"
    }
   },
   "execution_count": 49,
   "outputs": []
  },
  {
   "cell_type": "code",
   "execution_count": 55,
   "outputs": [],
   "source": [
    "angular_velocities = [q.diff(t) for q in general_angles]"
   ],
   "metadata": {
    "collapsed": false,
    "ExecuteTime": {
     "start_time": "2023-05-16T23:40:35.573857Z",
     "end_time": "2023-05-16T23:40:35.581858Z"
    }
   }
  },
  {
   "cell_type": "code",
   "execution_count": 56,
   "outputs": [],
   "source": [
    "get_inertial_matrix = sp.lambdify(general_angles, inertial_matrix, 'numpy')\n",
    "get_coriolis_matrix = sp.lambdify([*general_angles, *angular_velocities], coriolis, 'numpy')\n",
    "get_gravity_vector = sp.lambdify(general_angles, gravity_vector, 'numpy')"
   ],
   "metadata": {
    "collapsed": false,
    "ExecuteTime": {
     "start_time": "2023-05-16T23:40:36.673027Z",
     "end_time": "2023-05-16T23:40:37.046024Z"
    }
   }
  },
  {
   "cell_type": "markdown",
   "source": [
    "# Task 2\n",
    "Drive the robot joints between $[0,\\pi]$"
   ],
   "metadata": {
    "collapsed": false
   }
  },
  {
   "cell_type": "markdown",
   "source": [
    "With zero velocity and acceleration (gravity torques)"
   ],
   "metadata": {
    "collapsed": false
   }
  },
  {
   "cell_type": "code",
   "execution_count": null,
   "outputs": [],
   "source": [
    "points = [np.linspace(0, np.pi) for _ in range(len(general_angles))]"
   ],
   "metadata": {
    "collapsed": false
   }
  }
 ]
}
